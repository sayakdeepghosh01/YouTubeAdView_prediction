{
 "cells": [
  {
   "cell_type": "code",
   "execution_count": 60,
   "id": "d4776a96",
   "metadata": {
    "colab": {
     "base_uri": "https://localhost:8080/"
    },
    "id": "d4776a96",
    "outputId": "3549ae96-f828-4f0a-cc06-6b6b1332e3c7"
   },
   "outputs": [
    {
     "name": "stdout",
     "output_type": "stream",
     "text": [
      "Requirement already satisfied: tld in c:\\users\\ghosh\\anaconda3\\lib\\site-packages (0.12.6)\n"
     ]
    }
   ],
   "source": [
    "import numpy as np \n",
    "import pandas as pd \n",
    "from matplotlib import pyplot as plt\n",
    "import seaborn as sns\n",
    "import sklearn\n",
    "from sklearn.preprocessing import LabelEncoder\n",
    "from urllib.parse import urlparse\n",
    "!pip install tld\n",
    "from tld import get_tld\n",
    "import re\n",
    "#from google.colab import drive\n",
    "#from google.colab import files\n",
    "import socket"
   ]
  },
  {
   "cell_type": "code",
   "execution_count": 61,
   "id": "GeJbhcfrh3BB",
   "metadata": {
    "id": "GeJbhcfrh3BB"
   },
   "outputs": [],
   "source": [
    "#uploaded = files.upload()"
   ]
  },
  {
   "cell_type": "code",
   "execution_count": 62,
   "id": "Y4yWV5xxf7il",
   "metadata": {
    "colab": {
     "base_uri": "https://localhost:8080/"
    },
    "id": "Y4yWV5xxf7il",
    "outputId": "25e25a47-9975-46d9-b22e-9dcc5a3cfd27"
   },
   "outputs": [],
   "source": [
    "#drive.mount('/content/drive')\n"
   ]
  },
  {
   "cell_type": "code",
   "execution_count": 63,
   "id": "8461763b",
   "metadata": {
    "id": "8461763b"
   },
   "outputs": [],
   "source": [
    "df=pd.read_csv(\"malicious_phish.csv\")"
   ]
  },
  {
   "cell_type": "code",
   "execution_count": 64,
   "id": "3744fe0c",
   "metadata": {
    "colab": {
     "base_uri": "https://localhost:8080/",
     "height": 206
    },
    "id": "3744fe0c",
    "outputId": "bff90550-0408-4b8f-ed91-6fa5ec333bc2"
   },
   "outputs": [
    {
     "data": {
      "text/html": [
       "<div>\n",
       "<style scoped>\n",
       "    .dataframe tbody tr th:only-of-type {\n",
       "        vertical-align: middle;\n",
       "    }\n",
       "\n",
       "    .dataframe tbody tr th {\n",
       "        vertical-align: top;\n",
       "    }\n",
       "\n",
       "    .dataframe thead th {\n",
       "        text-align: right;\n",
       "    }\n",
       "</style>\n",
       "<table border=\"1\" class=\"dataframe\">\n",
       "  <thead>\n",
       "    <tr style=\"text-align: right;\">\n",
       "      <th></th>\n",
       "      <th>url</th>\n",
       "      <th>type</th>\n",
       "    </tr>\n",
       "  </thead>\n",
       "  <tbody>\n",
       "    <tr>\n",
       "      <th>0</th>\n",
       "      <td>br-icloud.com.br</td>\n",
       "      <td>phishing</td>\n",
       "    </tr>\n",
       "    <tr>\n",
       "      <th>1</th>\n",
       "      <td>mp3raid.com/music/krizz_kaliko.html</td>\n",
       "      <td>benign</td>\n",
       "    </tr>\n",
       "    <tr>\n",
       "      <th>2</th>\n",
       "      <td>bopsecrets.org/rexroth/cr/1.htm</td>\n",
       "      <td>benign</td>\n",
       "    </tr>\n",
       "    <tr>\n",
       "      <th>3</th>\n",
       "      <td>http://www.garage-pirenne.be/index.php?option=...</td>\n",
       "      <td>defacement</td>\n",
       "    </tr>\n",
       "    <tr>\n",
       "      <th>4</th>\n",
       "      <td>http://adventure-nicaragua.net/index.php?optio...</td>\n",
       "      <td>defacement</td>\n",
       "    </tr>\n",
       "  </tbody>\n",
       "</table>\n",
       "</div>"
      ],
      "text/plain": [
       "                                                 url        type\n",
       "0                                   br-icloud.com.br    phishing\n",
       "1                mp3raid.com/music/krizz_kaliko.html      benign\n",
       "2                    bopsecrets.org/rexroth/cr/1.htm      benign\n",
       "3  http://www.garage-pirenne.be/index.php?option=...  defacement\n",
       "4  http://adventure-nicaragua.net/index.php?optio...  defacement"
      ]
     },
     "execution_count": 64,
     "metadata": {},
     "output_type": "execute_result"
    }
   ],
   "source": [
    "df.head()"
   ]
  },
  {
   "cell_type": "code",
   "execution_count": 65,
   "id": "c02d152f",
   "metadata": {
    "colab": {
     "base_uri": "https://localhost:8080/"
    },
    "id": "c02d152f",
    "outputId": "9daa0153-22bc-4641-9f19-b9b9cc84195a"
   },
   "outputs": [
    {
     "data": {
      "text/plain": [
       "Index(['url', 'type'], dtype='object')"
      ]
     },
     "execution_count": 65,
     "metadata": {},
     "output_type": "execute_result"
    }
   ],
   "source": [
    "df.columns"
   ]
  },
  {
   "cell_type": "code",
   "execution_count": 66,
   "id": "f99f4036",
   "metadata": {
    "colab": {
     "base_uri": "https://localhost:8080/"
    },
    "id": "f99f4036",
    "outputId": "8cd80c4f-dbc9-4335-e184-b1a47c0c0815"
   },
   "outputs": [
    {
     "data": {
      "text/plain": [
       "(651191, 2)"
      ]
     },
     "execution_count": 66,
     "metadata": {},
     "output_type": "execute_result"
    }
   ],
   "source": [
    "df.shape"
   ]
  },
  {
   "cell_type": "code",
   "execution_count": 67,
   "id": "facaecf4",
   "metadata": {
    "colab": {
     "base_uri": "https://localhost:8080/",
     "height": 279
    },
    "id": "facaecf4",
    "outputId": "13c127ca-edd2-42e3-c96b-5d93a5d31efb"
   },
   "outputs": [
    {
     "data": {
      "image/png": "[encoded data removed]",
      "text/plain": [
       "<Figure size 432x288 with 1 Axes>"
      ]
     },
     "metadata": {
      "needs_background": "light"
     },
     "output_type": "display_data"
    }
   ],
   "source": [
    "plt.hist(df.type,bins=20,rwidth=0.8,color='y')\n",
    "plt.xlabel('phishing')\n",
    "plt.ylabel('benign')\n",
    "plt.show()"
   ]
  },
  {
   "cell_type": "code",
   "execution_count": 68,
   "id": "d5833002",
   "metadata": {
    "colab": {
     "base_uri": "https://localhost:8080/",
     "height": 175
    },
    "id": "d5833002",
    "outputId": "14f89ca4-de03-4a90-d29e-16d65cca1d7b"
   },
   "outputs": [
    {
     "data": {
      "text/html": [
       "<div>\n",
       "<style scoped>\n",
       "    .dataframe tbody tr th:only-of-type {\n",
       "        vertical-align: middle;\n",
       "    }\n",
       "\n",
       "    .dataframe tbody tr th {\n",
       "        vertical-align: top;\n",
       "    }\n",
       "\n",
       "    .dataframe thead th {\n",
       "        text-align: right;\n",
       "    }\n",
       "</style>\n",
       "<table border=\"1\" class=\"dataframe\">\n",
       "  <thead>\n",
       "    <tr style=\"text-align: right;\">\n",
       "      <th></th>\n",
       "      <th>url</th>\n",
       "      <th>type</th>\n",
       "    </tr>\n",
       "  </thead>\n",
       "  <tbody>\n",
       "    <tr>\n",
       "      <th>count</th>\n",
       "      <td>651191</td>\n",
       "      <td>651191</td>\n",
       "    </tr>\n",
       "    <tr>\n",
       "      <th>unique</th>\n",
       "      <td>641119</td>\n",
       "      <td>4</td>\n",
       "    </tr>\n",
       "    <tr>\n",
       "      <th>top</th>\n",
       "      <td>http://style.org.hc360.com/css/detail/mysite/s...</td>\n",
       "      <td>benign</td>\n",
       "    </tr>\n",
       "    <tr>\n",
       "      <th>freq</th>\n",
       "      <td>180</td>\n",
       "      <td>428103</td>\n",
       "    </tr>\n",
       "  </tbody>\n",
       "</table>\n",
       "</div>"
      ],
      "text/plain": [
       "                                                      url    type\n",
       "count                                              651191  651191\n",
       "unique                                             641119       4\n",
       "top     http://style.org.hc360.com/css/detail/mysite/s...  benign\n",
       "freq                                                  180  428103"
      ]
     },
     "execution_count": 68,
     "metadata": {},
     "output_type": "execute_result"
    }
   ],
   "source": [
    "df.describe()"
   ]
  },
  {
   "cell_type": "code",
   "execution_count": 69,
   "id": "035ab213",
   "metadata": {
    "colab": {
     "base_uri": "https://localhost:8080/"
    },
    "id": "035ab213",
    "outputId": "b9d4abb2-c86f-424d-cc91-003dc928e780"
   },
   "outputs": [
    {
     "name": "stdout",
     "output_type": "stream",
     "text": [
      "<class 'pandas.core.frame.DataFrame'>\n",
      "RangeIndex: 651191 entries, 0 to 651190\n",
      "Data columns (total 2 columns):\n",
      " #   Column  Non-Null Count   Dtype \n",
      "---  ------  --------------   ----- \n",
      " 0   url     651191 non-null  object\n",
      " 1   type    651191 non-null  object\n",
      "dtypes: object(2)\n",
      "memory usage: 9.9+ MB\n"
     ]
    }
   ],
   "source": [
    "df.info()"
   ]
  },
  {
   "cell_type": "code",
   "execution_count": 70,
   "id": "1c28c72f",
   "metadata": {
    "colab": {
     "base_uri": "https://localhost:8080/"
    },
    "id": "1c28c72f",
    "outputId": "ba857851-020f-4ca8-ae87-39efaedf31fe"
   },
   "outputs": [
    {
     "data": {
      "text/plain": [
       "array(['phishing', 'benign', 'defacement', 'malware'], dtype=object)"
      ]
     },
     "execution_count": 70,
     "metadata": {},
     "output_type": "execute_result"
    }
   ],
   "source": [
    "df['type'].unique()"
   ]
  },
  {
   "cell_type": "code",
   "execution_count": 71,
   "id": "cef4bef6",
   "metadata": {
    "colab": {
     "base_uri": "https://localhost:8080/"
    },
    "id": "cef4bef6",
    "outputId": "262c80f6-db6d-4292-9658-a52e900e293e"
   },
   "outputs": [
    {
     "data": {
      "text/plain": [
       "url     0\n",
       "type    0\n",
       "dtype: int64"
      ]
     },
     "execution_count": 71,
     "metadata": {},
     "output_type": "execute_result"
    }
   ],
   "source": [
    "df.isnull().sum()"
   ]
  },
  {
   "cell_type": "markdown",
   "id": "679b8ecf",
   "metadata": {
    "id": "679b8ecf"
   },
   "source": [
    "# labellings datasets"
   ]
  },
  {
   "cell_type": "code",
   "execution_count": 72,
   "id": "08e581ad",
   "metadata": {
    "id": "08e581ad"
   },
   "outputs": [],
   "source": [
    "#labelling the type "
   ]
  },
  {
   "cell_type": "code",
   "execution_count": 73,
   "id": "7f9e1770",
   "metadata": {
    "id": "7f9e1770"
   },
   "outputs": [],
   "source": [
    "labelEncoder= LabelEncoder()\n",
    "df['label']=labelEncoder.fit_transform(df['type'])"
   ]
  },
  {
   "cell_type": "code",
   "execution_count": 74,
   "id": "b805aa90",
   "metadata": {
    "colab": {
     "base_uri": "https://localhost:8080/",
     "height": 206
    },
    "id": "b805aa90",
    "outputId": "24e3ae1c-03d8-4188-af2e-33eaa7f35bfe"
   },
   "outputs": [
    {
     "data": {
      "text/html": [
       "<div>\n",
       "<style scoped>\n",
       "    .dataframe tbody tr th:only-of-type {\n",
       "        vertical-align: middle;\n",
       "    }\n",
       "\n",
       "    .dataframe tbody tr th {\n",
       "        vertical-align: top;\n",
       "    }\n",
       "\n",
       "    .dataframe thead th {\n",
       "        text-align: right;\n",
       "    }\n",
       "</style>\n",
       "<table border=\"1\" class=\"dataframe\">\n",
       "  <thead>\n",
       "    <tr style=\"text-align: right;\">\n",
       "      <th></th>\n",
       "      <th>url</th>\n",
       "      <th>type</th>\n",
       "      <th>label</th>\n",
       "    </tr>\n",
       "  </thead>\n",
       "  <tbody>\n",
       "    <tr>\n",
       "      <th>0</th>\n",
       "      <td>br-icloud.com.br</td>\n",
       "      <td>phishing</td>\n",
       "      <td>3</td>\n",
       "    </tr>\n",
       "    <tr>\n",
       "      <th>1</th>\n",
       "      <td>mp3raid.com/music/krizz_kaliko.html</td>\n",
       "      <td>benign</td>\n",
       "      <td>0</td>\n",
       "    </tr>\n",
       "    <tr>\n",
       "      <th>2</th>\n",
       "      <td>bopsecrets.org/rexroth/cr/1.htm</td>\n",
       "      <td>benign</td>\n",
       "      <td>0</td>\n",
       "    </tr>\n",
       "    <tr>\n",
       "      <th>3</th>\n",
       "      <td>http://www.garage-pirenne.be/index.php?option=...</td>\n",
       "      <td>defacement</td>\n",
       "      <td>1</td>\n",
       "    </tr>\n",
       "    <tr>\n",
       "      <th>4</th>\n",
       "      <td>http://adventure-nicaragua.net/index.php?optio...</td>\n",
       "      <td>defacement</td>\n",
       "      <td>1</td>\n",
       "    </tr>\n",
       "  </tbody>\n",
       "</table>\n",
       "</div>"
      ],
      "text/plain": [
       "                                                 url        type  label\n",
       "0                                   br-icloud.com.br    phishing      3\n",
       "1                mp3raid.com/music/krizz_kaliko.html      benign      0\n",
       "2                    bopsecrets.org/rexroth/cr/1.htm      benign      0\n",
       "3  http://www.garage-pirenne.be/index.php?option=...  defacement      1\n",
       "4  http://adventure-nicaragua.net/index.php?optio...  defacement      1"
      ]
     },
     "execution_count": 74,
     "metadata": {},
     "output_type": "execute_result"
    }
   ],
   "source": [
    "df.head(5)"
   ]
  },
  {
   "cell_type": "code",
   "execution_count": null,
   "id": "4034c57d",
   "metadata": {
    "id": "4034c57d"
   },
   "outputs": [],
   "source": []
  },
  {
   "cell_type": "markdown",
   "id": "c792b641",
   "metadata": {
    "id": "c792b641"
   },
   "source": [
    "# Length checking"
   ]
  },
  {
   "cell_type": "code",
   "execution_count": 75,
   "id": "0015a78c",
   "metadata": {
    "id": "0015a78c"
   },
   "outputs": [],
   "source": [
    "#url length \n",
    "df['url_len']=df['url'].apply(lambda url: len(str(url)))"
   ]
  },
  {
   "cell_type": "code",
   "execution_count": 76,
   "id": "3cd6266a",
   "metadata": {
    "colab": {
     "base_uri": "https://localhost:8080/",
     "height": 206
    },
    "id": "3cd6266a",
    "outputId": "5f8f2f80-29f4-47bf-b9dc-d95be798b0ff",
    "scrolled": true
   },
   "outputs": [
    {
     "data": {
      "text/html": [
       "<div>\n",
       "<style scoped>\n",
       "    .dataframe tbody tr th:only-of-type {\n",
       "        vertical-align: middle;\n",
       "    }\n",
       "\n",
       "    .dataframe tbody tr th {\n",
       "        vertical-align: top;\n",
       "    }\n",
       "\n",
       "    .dataframe thead th {\n",
       "        text-align: right;\n",
       "    }\n",
       "</style>\n",
       "<table border=\"1\" class=\"dataframe\">\n",
       "  <thead>\n",
       "    <tr style=\"text-align: right;\">\n",
       "      <th></th>\n",
       "      <th>url</th>\n",
       "      <th>type</th>\n",
       "      <th>label</th>\n",
       "      <th>url_len</th>\n",
       "    </tr>\n",
       "  </thead>\n",
       "  <tbody>\n",
       "    <tr>\n",
       "      <th>0</th>\n",
       "      <td>br-icloud.com.br</td>\n",
       "      <td>phishing</td>\n",
       "      <td>3</td>\n",
       "      <td>16</td>\n",
       "    </tr>\n",
       "    <tr>\n",
       "      <th>1</th>\n",
       "      <td>mp3raid.com/music/krizz_kaliko.html</td>\n",
       "      <td>benign</td>\n",
       "      <td>0</td>\n",
       "      <td>35</td>\n",
       "    </tr>\n",
       "    <tr>\n",
       "      <th>2</th>\n",
       "      <td>bopsecrets.org/rexroth/cr/1.htm</td>\n",
       "      <td>benign</td>\n",
       "      <td>0</td>\n",
       "      <td>31</td>\n",
       "    </tr>\n",
       "    <tr>\n",
       "      <th>3</th>\n",
       "      <td>http://www.garage-pirenne.be/index.php?option=...</td>\n",
       "      <td>defacement</td>\n",
       "      <td>1</td>\n",
       "      <td>88</td>\n",
       "    </tr>\n",
       "    <tr>\n",
       "      <th>4</th>\n",
       "      <td>http://adventure-nicaragua.net/index.php?optio...</td>\n",
       "      <td>defacement</td>\n",
       "      <td>1</td>\n",
       "      <td>235</td>\n",
       "    </tr>\n",
       "  </tbody>\n",
       "</table>\n",
       "</div>"
      ],
      "text/plain": [
       "                                                 url        type  label  \\\n",
       "0                                   br-icloud.com.br    phishing      3   \n",
       "1                mp3raid.com/music/krizz_kaliko.html      benign      0   \n",
       "2                    bopsecrets.org/rexroth/cr/1.htm      benign      0   \n",
       "3  http://www.garage-pirenne.be/index.php?option=...  defacement      1   \n",
       "4  http://adventure-nicaragua.net/index.php?optio...  defacement      1   \n",
       "\n",
       "   url_len  \n",
       "0       16  \n",
       "1       35  \n",
       "2       31  \n",
       "3       88  \n",
       "4      235  "
      ]
     },
     "execution_count": 76,
     "metadata": {},
     "output_type": "execute_result"
    }
   ],
   "source": [
    "df.head(5)"
   ]
  },
  {
   "cell_type": "code",
   "execution_count": 77,
   "id": "a9721e97",
   "metadata": {
    "id": "a9721e97"
   },
   "outputs": [],
   "source": [
    "#host url length \n",
    "df['host_url_len']=df['url'].apply(lambda url:len(urlparse(url).netloc))"
   ]
  },
  {
   "cell_type": "code",
   "execution_count": null,
   "id": "inPFdKOoO0Zb",
   "metadata": {
    "id": "inPFdKOoO0Zb"
   },
   "outputs": [],
   "source": []
  },
  {
   "cell_type": "code",
   "execution_count": 78,
   "id": "7d263412",
   "metadata": {
    "colab": {
     "base_uri": "https://localhost:8080/",
     "height": 206
    },
    "id": "7d263412",
    "outputId": "d287856f-21d9-491e-9a19-22c2c25242a6",
    "scrolled": true
   },
   "outputs": [
    {
     "data": {
      "text/html": [
       "<div>\n",
       "<style scoped>\n",
       "    .dataframe tbody tr th:only-of-type {\n",
       "        vertical-align: middle;\n",
       "    }\n",
       "\n",
       "    .dataframe tbody tr th {\n",
       "        vertical-align: top;\n",
       "    }\n",
       "\n",
       "    .dataframe thead th {\n",
       "        text-align: right;\n",
       "    }\n",
       "</style>\n",
       "<table border=\"1\" class=\"dataframe\">\n",
       "  <thead>\n",
       "    <tr style=\"text-align: right;\">\n",
       "      <th></th>\n",
       "      <th>url</th>\n",
       "      <th>type</th>\n",
       "      <th>label</th>\n",
       "      <th>url_len</th>\n",
       "      <th>host_url_len</th>\n",
       "    </tr>\n",
       "  </thead>\n",
       "  <tbody>\n",
       "    <tr>\n",
       "      <th>0</th>\n",
       "      <td>br-icloud.com.br</td>\n",
       "      <td>phishing</td>\n",
       "      <td>3</td>\n",
       "      <td>16</td>\n",
       "      <td>0</td>\n",
       "    </tr>\n",
       "    <tr>\n",
       "      <th>1</th>\n",
       "      <td>mp3raid.com/music/krizz_kaliko.html</td>\n",
       "      <td>benign</td>\n",
       "      <td>0</td>\n",
       "      <td>35</td>\n",
       "      <td>0</td>\n",
       "    </tr>\n",
       "    <tr>\n",
       "      <th>2</th>\n",
       "      <td>bopsecrets.org/rexroth/cr/1.htm</td>\n",
       "      <td>benign</td>\n",
       "      <td>0</td>\n",
       "      <td>31</td>\n",
       "      <td>0</td>\n",
       "    </tr>\n",
       "    <tr>\n",
       "      <th>3</th>\n",
       "      <td>http://www.garage-pirenne.be/index.php?option=...</td>\n",
       "      <td>defacement</td>\n",
       "      <td>1</td>\n",
       "      <td>88</td>\n",
       "      <td>21</td>\n",
       "    </tr>\n",
       "    <tr>\n",
       "      <th>4</th>\n",
       "      <td>http://adventure-nicaragua.net/index.php?optio...</td>\n",
       "      <td>defacement</td>\n",
       "      <td>1</td>\n",
       "      <td>235</td>\n",
       "      <td>23</td>\n",
       "    </tr>\n",
       "  </tbody>\n",
       "</table>\n",
       "</div>"
      ],
      "text/plain": [
       "                                                 url        type  label  \\\n",
       "0                                   br-icloud.com.br    phishing      3   \n",
       "1                mp3raid.com/music/krizz_kaliko.html      benign      0   \n",
       "2                    bopsecrets.org/rexroth/cr/1.htm      benign      0   \n",
       "3  http://www.garage-pirenne.be/index.php?option=...  defacement      1   \n",
       "4  http://adventure-nicaragua.net/index.php?optio...  defacement      1   \n",
       "\n",
       "   url_len  host_url_len  \n",
       "0       16             0  \n",
       "1       35             0  \n",
       "2       31             0  \n",
       "3       88            21  \n",
       "4      235            23  "
      ]
     },
     "execution_count": 78,
     "metadata": {},
     "output_type": "execute_result"
    }
   ],
   "source": [
    "df.head(5)"
   ]
  },
  {
   "cell_type": "code",
   "execution_count": 79,
   "id": "QnOZRlJSOWVl",
   "metadata": {
    "id": "QnOZRlJSOWVl"
   },
   "outputs": [],
   "source": [
    "#url path length\n",
    "df['path_len'] = df['url'].apply(lambda url: len(urlparse(url).path))"
   ]
  },
  {
   "cell_type": "code",
   "execution_count": 80,
   "id": "kpW76Ah1O9Zk",
   "metadata": {
    "colab": {
     "base_uri": "https://localhost:8080/",
     "height": 206
    },
    "id": "kpW76Ah1O9Zk",
    "outputId": "5b73734f-b066-44ba-e4cc-ee309226abb0"
   },
   "outputs": [
    {
     "data": {
      "text/html": [
       "<div>\n",
       "<style scoped>\n",
       "    .dataframe tbody tr th:only-of-type {\n",
       "        vertical-align: middle;\n",
       "    }\n",
       "\n",
       "    .dataframe tbody tr th {\n",
       "        vertical-align: top;\n",
       "    }\n",
       "\n",
       "    .dataframe thead th {\n",
       "        text-align: right;\n",
       "    }\n",
       "</style>\n",
       "<table border=\"1\" class=\"dataframe\">\n",
       "  <thead>\n",
       "    <tr style=\"text-align: right;\">\n",
       "      <th></th>\n",
       "      <th>url</th>\n",
       "      <th>type</th>\n",
       "      <th>label</th>\n",
       "      <th>url_len</th>\n",
       "      <th>host_url_len</th>\n",
       "      <th>path_len</th>\n",
       "    </tr>\n",
       "  </thead>\n",
       "  <tbody>\n",
       "    <tr>\n",
       "      <th>0</th>\n",
       "      <td>br-icloud.com.br</td>\n",
       "      <td>phishing</td>\n",
       "      <td>3</td>\n",
       "      <td>16</td>\n",
       "      <td>0</td>\n",
       "      <td>16</td>\n",
       "    </tr>\n",
       "    <tr>\n",
       "      <th>1</th>\n",
       "      <td>mp3raid.com/music/krizz_kaliko.html</td>\n",
       "      <td>benign</td>\n",
       "      <td>0</td>\n",
       "      <td>35</td>\n",
       "      <td>0</td>\n",
       "      <td>35</td>\n",
       "    </tr>\n",
       "    <tr>\n",
       "      <th>2</th>\n",
       "      <td>bopsecrets.org/rexroth/cr/1.htm</td>\n",
       "      <td>benign</td>\n",
       "      <td>0</td>\n",
       "      <td>31</td>\n",
       "      <td>0</td>\n",
       "      <td>31</td>\n",
       "    </tr>\n",
       "    <tr>\n",
       "      <th>3</th>\n",
       "      <td>http://www.garage-pirenne.be/index.php?option=...</td>\n",
       "      <td>defacement</td>\n",
       "      <td>1</td>\n",
       "      <td>88</td>\n",
       "      <td>21</td>\n",
       "      <td>10</td>\n",
       "    </tr>\n",
       "    <tr>\n",
       "      <th>4</th>\n",
       "      <td>http://adventure-nicaragua.net/index.php?optio...</td>\n",
       "      <td>defacement</td>\n",
       "      <td>1</td>\n",
       "      <td>235</td>\n",
       "      <td>23</td>\n",
       "      <td>10</td>\n",
       "    </tr>\n",
       "  </tbody>\n",
       "</table>\n",
       "</div>"
      ],
      "text/plain": [
       "                                                 url        type  label  \\\n",
       "0                                   br-icloud.com.br    phishing      3   \n",
       "1                mp3raid.com/music/krizz_kaliko.html      benign      0   \n",
       "2                    bopsecrets.org/rexroth/cr/1.htm      benign      0   \n",
       "3  http://www.garage-pirenne.be/index.php?option=...  defacement      1   \n",
       "4  http://adventure-nicaragua.net/index.php?optio...  defacement      1   \n",
       "\n",
       "   url_len  host_url_len  path_len  \n",
       "0       16             0        16  \n",
       "1       35             0        35  \n",
       "2       31             0        31  \n",
       "3       88            21        10  \n",
       "4      235            23        10  "
      ]
     },
     "execution_count": 80,
     "metadata": {},
     "output_type": "execute_result"
    }
   ],
   "source": [
    "df.head()"
   ]
  },
  {
   "cell_type": "code",
   "execution_count": 81,
   "id": "sNJYPWMOPgxj",
   "metadata": {
    "id": "sNJYPWMOPgxj"
   },
   "outputs": [],
   "source": [
    "#extract TLD\n",
    "def custom_get_tld(url:str):\n",
    "  tld =get_tld(url,fail_silently=True)\n",
    "  return tld if tld else ''\n",
    "\n",
    "df['tld']=df['url'].apply(lambda url: custom_get_tld(str(url)))\n"
   ]
  },
  {
   "cell_type": "code",
   "execution_count": 82,
   "id": "Vcu3Hn2zQEju",
   "metadata": {
    "colab": {
     "base_uri": "https://localhost:8080/",
     "height": 206
    },
    "id": "Vcu3Hn2zQEju",
    "outputId": "cb8a7dc3-33fa-4bb7-edb7-9b2d9f4b4d02"
   },
   "outputs": [
    {
     "data": {
      "text/html": [
       "<div>\n",
       "<style scoped>\n",
       "    .dataframe tbody tr th:only-of-type {\n",
       "        vertical-align: middle;\n",
       "    }\n",
       "\n",
       "    .dataframe tbody tr th {\n",
       "        vertical-align: top;\n",
       "    }\n",
       "\n",
       "    .dataframe thead th {\n",
       "        text-align: right;\n",
       "    }\n",
       "</style>\n",
       "<table border=\"1\" class=\"dataframe\">\n",
       "  <thead>\n",
       "    <tr style=\"text-align: right;\">\n",
       "      <th></th>\n",
       "      <th>url</th>\n",
       "      <th>type</th>\n",
       "      <th>label</th>\n",
       "      <th>url_len</th>\n",
       "      <th>host_url_len</th>\n",
       "      <th>path_len</th>\n",
       "      <th>tld</th>\n",
       "    </tr>\n",
       "  </thead>\n",
       "  <tbody>\n",
       "    <tr>\n",
       "      <th>0</th>\n",
       "      <td>br-icloud.com.br</td>\n",
       "      <td>phishing</td>\n",
       "      <td>3</td>\n",
       "      <td>16</td>\n",
       "      <td>0</td>\n",
       "      <td>16</td>\n",
       "      <td></td>\n",
       "    </tr>\n",
       "    <tr>\n",
       "      <th>1</th>\n",
       "      <td>mp3raid.com/music/krizz_kaliko.html</td>\n",
       "      <td>benign</td>\n",
       "      <td>0</td>\n",
       "      <td>35</td>\n",
       "      <td>0</td>\n",
       "      <td>35</td>\n",
       "      <td></td>\n",
       "    </tr>\n",
       "    <tr>\n",
       "      <th>2</th>\n",
       "      <td>bopsecrets.org/rexroth/cr/1.htm</td>\n",
       "      <td>benign</td>\n",
       "      <td>0</td>\n",
       "      <td>31</td>\n",
       "      <td>0</td>\n",
       "      <td>31</td>\n",
       "      <td></td>\n",
       "    </tr>\n",
       "    <tr>\n",
       "      <th>3</th>\n",
       "      <td>http://www.garage-pirenne.be/index.php?option=...</td>\n",
       "      <td>defacement</td>\n",
       "      <td>1</td>\n",
       "      <td>88</td>\n",
       "      <td>21</td>\n",
       "      <td>10</td>\n",
       "      <td>be</td>\n",
       "    </tr>\n",
       "    <tr>\n",
       "      <th>4</th>\n",
       "      <td>http://adventure-nicaragua.net/index.php?optio...</td>\n",
       "      <td>defacement</td>\n",
       "      <td>1</td>\n",
       "      <td>235</td>\n",
       "      <td>23</td>\n",
       "      <td>10</td>\n",
       "      <td>net</td>\n",
       "    </tr>\n",
       "  </tbody>\n",
       "</table>\n",
       "</div>"
      ],
      "text/plain": [
       "                                                 url        type  label  \\\n",
       "0                                   br-icloud.com.br    phishing      3   \n",
       "1                mp3raid.com/music/krizz_kaliko.html      benign      0   \n",
       "2                    bopsecrets.org/rexroth/cr/1.htm      benign      0   \n",
       "3  http://www.garage-pirenne.be/index.php?option=...  defacement      1   \n",
       "4  http://adventure-nicaragua.net/index.php?optio...  defacement      1   \n",
       "\n",
       "   url_len  host_url_len  path_len  tld  \n",
       "0       16             0        16       \n",
       "1       35             0        35       \n",
       "2       31             0        31       \n",
       "3       88            21        10   be  \n",
       "4      235            23        10  net  "
      ]
     },
     "execution_count": 82,
     "metadata": {},
     "output_type": "execute_result"
    }
   ],
   "source": [
    "df.head()"
   ]
  },
  {
   "cell_type": "code",
   "execution_count": 83,
   "id": "IDU8-F6gQWG_",
   "metadata": {
    "id": "IDU8-F6gQWG_"
   },
   "outputs": [],
   "source": [
    "#lable encoding of tld \n",
    "tldEncoder = LabelEncoder()\n",
    "df['tld_vec'] = tldEncoder.fit_transform(df['tld'])"
   ]
  },
  {
   "cell_type": "code",
   "execution_count": 84,
   "id": "i1Il6keaQwHO",
   "metadata": {
    "colab": {
     "base_uri": "https://localhost:8080/",
     "height": 206
    },
    "id": "i1Il6keaQwHO",
    "outputId": "ccb52823-9e7e-482e-cab4-26c12325a98d"
   },
   "outputs": [
    {
     "data": {
      "text/html": [
       "<div>\n",
       "<style scoped>\n",
       "    .dataframe tbody tr th:only-of-type {\n",
       "        vertical-align: middle;\n",
       "    }\n",
       "\n",
       "    .dataframe tbody tr th {\n",
       "        vertical-align: top;\n",
       "    }\n",
       "\n",
       "    .dataframe thead th {\n",
       "        text-align: right;\n",
       "    }\n",
       "</style>\n",
       "<table border=\"1\" class=\"dataframe\">\n",
       "  <thead>\n",
       "    <tr style=\"text-align: right;\">\n",
       "      <th></th>\n",
       "      <th>url</th>\n",
       "      <th>type</th>\n",
       "      <th>label</th>\n",
       "      <th>url_len</th>\n",
       "      <th>host_url_len</th>\n",
       "      <th>path_len</th>\n",
       "      <th>tld</th>\n",
       "      <th>tld_vec</th>\n",
       "    </tr>\n",
       "  </thead>\n",
       "  <tbody>\n",
       "    <tr>\n",
       "      <th>0</th>\n",
       "      <td>br-icloud.com.br</td>\n",
       "      <td>phishing</td>\n",
       "      <td>3</td>\n",
       "      <td>16</td>\n",
       "      <td>0</td>\n",
       "      <td>16</td>\n",
       "      <td></td>\n",
       "      <td>0</td>\n",
       "    </tr>\n",
       "    <tr>\n",
       "      <th>1</th>\n",
       "      <td>mp3raid.com/music/krizz_kaliko.html</td>\n",
       "      <td>benign</td>\n",
       "      <td>0</td>\n",
       "      <td>35</td>\n",
       "      <td>0</td>\n",
       "      <td>35</td>\n",
       "      <td></td>\n",
       "      <td>0</td>\n",
       "    </tr>\n",
       "    <tr>\n",
       "      <th>2</th>\n",
       "      <td>bopsecrets.org/rexroth/cr/1.htm</td>\n",
       "      <td>benign</td>\n",
       "      <td>0</td>\n",
       "      <td>31</td>\n",
       "      <td>0</td>\n",
       "      <td>31</td>\n",
       "      <td></td>\n",
       "      <td>0</td>\n",
       "    </tr>\n",
       "    <tr>\n",
       "      <th>3</th>\n",
       "      <td>http://www.garage-pirenne.be/index.php?option=...</td>\n",
       "      <td>defacement</td>\n",
       "      <td>1</td>\n",
       "      <td>88</td>\n",
       "      <td>21</td>\n",
       "      <td>10</td>\n",
       "      <td>be</td>\n",
       "      <td>35</td>\n",
       "    </tr>\n",
       "    <tr>\n",
       "      <th>4</th>\n",
       "      <td>http://adventure-nicaragua.net/index.php?optio...</td>\n",
       "      <td>defacement</td>\n",
       "      <td>1</td>\n",
       "      <td>235</td>\n",
       "      <td>23</td>\n",
       "      <td>10</td>\n",
       "      <td>net</td>\n",
       "      <td>353</td>\n",
       "    </tr>\n",
       "  </tbody>\n",
       "</table>\n",
       "</div>"
      ],
      "text/plain": [
       "                                                 url        type  label  \\\n",
       "0                                   br-icloud.com.br    phishing      3   \n",
       "1                mp3raid.com/music/krizz_kaliko.html      benign      0   \n",
       "2                    bopsecrets.org/rexroth/cr/1.htm      benign      0   \n",
       "3  http://www.garage-pirenne.be/index.php?option=...  defacement      1   \n",
       "4  http://adventure-nicaragua.net/index.php?optio...  defacement      1   \n",
       "\n",
       "   url_len  host_url_len  path_len  tld  tld_vec  \n",
       "0       16             0        16             0  \n",
       "1       35             0        35             0  \n",
       "2       31             0        31             0  \n",
       "3       88            21        10   be       35  \n",
       "4      235            23        10  net      353  "
      ]
     },
     "execution_count": 84,
     "metadata": {},
     "output_type": "execute_result"
    }
   ],
   "source": [
    "df.head()"
   ]
  },
  {
   "cell_type": "code",
   "execution_count": 85,
   "id": "7zJ3DyXFQ0Zp",
   "metadata": {
    "id": "7zJ3DyXFQ0Zp"
   },
   "outputs": [],
   "source": [
    "#df['tld_len'] =df['tld'].apply(lambda tld: len(tld))\n",
    " \n",
    "#drop tld\n",
    "df.drop([\"tld\"],axis = 1, inplace = True)"
   ]
  },
  {
   "cell_type": "code",
   "execution_count": 86,
   "id": "LYIJRC65RstC",
   "metadata": {
    "colab": {
     "base_uri": "https://localhost:8080/",
     "height": 206
    },
    "id": "LYIJRC65RstC",
    "outputId": "037efefb-1e5f-4a3f-d1be-f3bb8569e96d"
   },
   "outputs": [
    {
     "data": {
      "text/html": [
       "<div>\n",
       "<style scoped>\n",
       "    .dataframe tbody tr th:only-of-type {\n",
       "        vertical-align: middle;\n",
       "    }\n",
       "\n",
       "    .dataframe tbody tr th {\n",
       "        vertical-align: top;\n",
       "    }\n",
       "\n",
       "    .dataframe thead th {\n",
       "        text-align: right;\n",
       "    }\n",
       "</style>\n",
       "<table border=\"1\" class=\"dataframe\">\n",
       "  <thead>\n",
       "    <tr style=\"text-align: right;\">\n",
       "      <th></th>\n",
       "      <th>url</th>\n",
       "      <th>type</th>\n",
       "      <th>label</th>\n",
       "      <th>url_len</th>\n",
       "      <th>host_url_len</th>\n",
       "      <th>path_len</th>\n",
       "      <th>tld_vec</th>\n",
       "    </tr>\n",
       "  </thead>\n",
       "  <tbody>\n",
       "    <tr>\n",
       "      <th>0</th>\n",
       "      <td>br-icloud.com.br</td>\n",
       "      <td>phishing</td>\n",
       "      <td>3</td>\n",
       "      <td>16</td>\n",
       "      <td>0</td>\n",
       "      <td>16</td>\n",
       "      <td>0</td>\n",
       "    </tr>\n",
       "    <tr>\n",
       "      <th>1</th>\n",
       "      <td>mp3raid.com/music/krizz_kaliko.html</td>\n",
       "      <td>benign</td>\n",
       "      <td>0</td>\n",
       "      <td>35</td>\n",
       "      <td>0</td>\n",
       "      <td>35</td>\n",
       "      <td>0</td>\n",
       "    </tr>\n",
       "    <tr>\n",
       "      <th>2</th>\n",
       "      <td>bopsecrets.org/rexroth/cr/1.htm</td>\n",
       "      <td>benign</td>\n",
       "      <td>0</td>\n",
       "      <td>31</td>\n",
       "      <td>0</td>\n",
       "      <td>31</td>\n",
       "      <td>0</td>\n",
       "    </tr>\n",
       "    <tr>\n",
       "      <th>3</th>\n",
       "      <td>http://www.garage-pirenne.be/index.php?option=...</td>\n",
       "      <td>defacement</td>\n",
       "      <td>1</td>\n",
       "      <td>88</td>\n",
       "      <td>21</td>\n",
       "      <td>10</td>\n",
       "      <td>35</td>\n",
       "    </tr>\n",
       "    <tr>\n",
       "      <th>4</th>\n",
       "      <td>http://adventure-nicaragua.net/index.php?optio...</td>\n",
       "      <td>defacement</td>\n",
       "      <td>1</td>\n",
       "      <td>235</td>\n",
       "      <td>23</td>\n",
       "      <td>10</td>\n",
       "      <td>353</td>\n",
       "    </tr>\n",
       "  </tbody>\n",
       "</table>\n",
       "</div>"
      ],
      "text/plain": [
       "                                                 url        type  label  \\\n",
       "0                                   br-icloud.com.br    phishing      3   \n",
       "1                mp3raid.com/music/krizz_kaliko.html      benign      0   \n",
       "2                    bopsecrets.org/rexroth/cr/1.htm      benign      0   \n",
       "3  http://www.garage-pirenne.be/index.php?option=...  defacement      1   \n",
       "4  http://adventure-nicaragua.net/index.php?optio...  defacement      1   \n",
       "\n",
       "   url_len  host_url_len  path_len  tld_vec  \n",
       "0       16             0        16        0  \n",
       "1       35             0        35        0  \n",
       "2       31             0        31        0  \n",
       "3       88            21        10       35  \n",
       "4      235            23        10      353  "
      ]
     },
     "execution_count": 86,
     "metadata": {},
     "output_type": "execute_result"
    }
   ],
   "source": [
    "df.head()"
   ]
  },
  {
   "cell_type": "code",
   "execution_count": 87,
   "id": "e8e2c92c",
   "metadata": {
    "id": "e8e2c92c"
   },
   "outputs": [],
   "source": [
    "\n",
    "\n",
    "#tld path len\n",
    "#df['tld'] = df['url'].apply(lambda i: get_tld(i,fail_silently=True))\n",
    "#def tld_len(tld):\n",
    "#    try:\n",
    "#        return len(tld)\n",
    "#    except:\n",
    "#        return -1\n",
    "\n",
    "#df['tld_len'] = df['tld'].apply(lambda i: tld_len(i))"
   ]
  },
  {
   "cell_type": "code",
   "execution_count": 88,
   "id": "f4612fd9",
   "metadata": {
    "colab": {
     "base_uri": "https://localhost:8080/",
     "height": 206
    },
    "id": "f4612fd9",
    "outputId": "f3a59833-0c4f-4f9c-f3b5-fe11f8e1ac07"
   },
   "outputs": [
    {
     "data": {
      "text/html": [
       "<div>\n",
       "<style scoped>\n",
       "    .dataframe tbody tr th:only-of-type {\n",
       "        vertical-align: middle;\n",
       "    }\n",
       "\n",
       "    .dataframe tbody tr th {\n",
       "        vertical-align: top;\n",
       "    }\n",
       "\n",
       "    .dataframe thead th {\n",
       "        text-align: right;\n",
       "    }\n",
       "</style>\n",
       "<table border=\"1\" class=\"dataframe\">\n",
       "  <thead>\n",
       "    <tr style=\"text-align: right;\">\n",
       "      <th></th>\n",
       "      <th>url</th>\n",
       "      <th>type</th>\n",
       "      <th>label</th>\n",
       "      <th>url_len</th>\n",
       "      <th>host_url_len</th>\n",
       "      <th>path_len</th>\n",
       "      <th>tld_vec</th>\n",
       "    </tr>\n",
       "  </thead>\n",
       "  <tbody>\n",
       "    <tr>\n",
       "      <th>0</th>\n",
       "      <td>br-icloud.com.br</td>\n",
       "      <td>phishing</td>\n",
       "      <td>3</td>\n",
       "      <td>16</td>\n",
       "      <td>0</td>\n",
       "      <td>16</td>\n",
       "      <td>0</td>\n",
       "    </tr>\n",
       "    <tr>\n",
       "      <th>1</th>\n",
       "      <td>mp3raid.com/music/krizz_kaliko.html</td>\n",
       "      <td>benign</td>\n",
       "      <td>0</td>\n",
       "      <td>35</td>\n",
       "      <td>0</td>\n",
       "      <td>35</td>\n",
       "      <td>0</td>\n",
       "    </tr>\n",
       "    <tr>\n",
       "      <th>2</th>\n",
       "      <td>bopsecrets.org/rexroth/cr/1.htm</td>\n",
       "      <td>benign</td>\n",
       "      <td>0</td>\n",
       "      <td>31</td>\n",
       "      <td>0</td>\n",
       "      <td>31</td>\n",
       "      <td>0</td>\n",
       "    </tr>\n",
       "    <tr>\n",
       "      <th>3</th>\n",
       "      <td>http://www.garage-pirenne.be/index.php?option=...</td>\n",
       "      <td>defacement</td>\n",
       "      <td>1</td>\n",
       "      <td>88</td>\n",
       "      <td>21</td>\n",
       "      <td>10</td>\n",
       "      <td>35</td>\n",
       "    </tr>\n",
       "    <tr>\n",
       "      <th>4</th>\n",
       "      <td>http://adventure-nicaragua.net/index.php?optio...</td>\n",
       "      <td>defacement</td>\n",
       "      <td>1</td>\n",
       "      <td>235</td>\n",
       "      <td>23</td>\n",
       "      <td>10</td>\n",
       "      <td>353</td>\n",
       "    </tr>\n",
       "  </tbody>\n",
       "</table>\n",
       "</div>"
      ],
      "text/plain": [
       "                                                 url        type  label  \\\n",
       "0                                   br-icloud.com.br    phishing      3   \n",
       "1                mp3raid.com/music/krizz_kaliko.html      benign      0   \n",
       "2                    bopsecrets.org/rexroth/cr/1.htm      benign      0   \n",
       "3  http://www.garage-pirenne.be/index.php?option=...  defacement      1   \n",
       "4  http://adventure-nicaragua.net/index.php?optio...  defacement      1   \n",
       "\n",
       "   url_len  host_url_len  path_len  tld_vec  \n",
       "0       16             0        16        0  \n",
       "1       35             0        35        0  \n",
       "2       31             0        31        0  \n",
       "3       88            21        10       35  \n",
       "4      235            23        10      353  "
      ]
     },
     "execution_count": 88,
     "metadata": {},
     "output_type": "execute_result"
    }
   ],
   "source": [
    "df.head(5)"
   ]
  },
  {
   "cell_type": "code",
   "execution_count": null,
   "id": "e778870f",
   "metadata": {
    "id": "e778870f"
   },
   "outputs": [],
   "source": []
  },
  {
   "cell_type": "markdown",
   "id": "438db6e4",
   "metadata": {
    "id": "438db6e4"
   },
   "source": [
    "# 2ndry  features\n"
   ]
  },
  {
   "cell_type": "code",
   "execution_count": 89,
   "id": "e23cee0d",
   "metadata": {
    "id": "e23cee0d"
   },
   "outputs": [],
   "source": [
    "#count www in the url\n",
    "df['www_count'] = df['url'].apply(lambda url: url.count('www'))"
   ]
  },
  {
   "cell_type": "code",
   "execution_count": 90,
   "id": "df965323",
   "metadata": {
    "id": "df965323"
   },
   "outputs": [],
   "source": [
    "#count https in url\n",
    "df['https_count'] = df['url'].apply(lambda url: url.count('https'))"
   ]
  },
  {
   "cell_type": "code",
   "execution_count": 91,
   "id": "4d533b03",
   "metadata": {
    "colab": {
     "base_uri": "https://localhost:8080/",
     "height": 206
    },
    "id": "4d533b03",
    "outputId": "1d840658-ed4b-416c-c69d-ab02d3c4c185"
   },
   "outputs": [
    {
     "data": {
      "text/html": [
       "<div>\n",
       "<style scoped>\n",
       "    .dataframe tbody tr th:only-of-type {\n",
       "        vertical-align: middle;\n",
       "    }\n",
       "\n",
       "    .dataframe tbody tr th {\n",
       "        vertical-align: top;\n",
       "    }\n",
       "\n",
       "    .dataframe thead th {\n",
       "        text-align: right;\n",
       "    }\n",
       "</style>\n",
       "<table border=\"1\" class=\"dataframe\">\n",
       "  <thead>\n",
       "    <tr style=\"text-align: right;\">\n",
       "      <th></th>\n",
       "      <th>url</th>\n",
       "      <th>type</th>\n",
       "      <th>label</th>\n",
       "      <th>url_len</th>\n",
       "      <th>host_url_len</th>\n",
       "      <th>path_len</th>\n",
       "      <th>tld_vec</th>\n",
       "      <th>www_count</th>\n",
       "      <th>https_count</th>\n",
       "    </tr>\n",
       "  </thead>\n",
       "  <tbody>\n",
       "    <tr>\n",
       "      <th>0</th>\n",
       "      <td>br-icloud.com.br</td>\n",
       "      <td>phishing</td>\n",
       "      <td>3</td>\n",
       "      <td>16</td>\n",
       "      <td>0</td>\n",
       "      <td>16</td>\n",
       "      <td>0</td>\n",
       "      <td>0</td>\n",
       "      <td>0</td>\n",
       "    </tr>\n",
       "    <tr>\n",
       "      <th>1</th>\n",
       "      <td>mp3raid.com/music/krizz_kaliko.html</td>\n",
       "      <td>benign</td>\n",
       "      <td>0</td>\n",
       "      <td>35</td>\n",
       "      <td>0</td>\n",
       "      <td>35</td>\n",
       "      <td>0</td>\n",
       "      <td>0</td>\n",
       "      <td>0</td>\n",
       "    </tr>\n",
       "    <tr>\n",
       "      <th>2</th>\n",
       "      <td>bopsecrets.org/rexroth/cr/1.htm</td>\n",
       "      <td>benign</td>\n",
       "      <td>0</td>\n",
       "      <td>31</td>\n",
       "      <td>0</td>\n",
       "      <td>31</td>\n",
       "      <td>0</td>\n",
       "      <td>0</td>\n",
       "      <td>0</td>\n",
       "    </tr>\n",
       "    <tr>\n",
       "      <th>3</th>\n",
       "      <td>http://www.garage-pirenne.be/index.php?option=...</td>\n",
       "      <td>defacement</td>\n",
       "      <td>1</td>\n",
       "      <td>88</td>\n",
       "      <td>21</td>\n",
       "      <td>10</td>\n",
       "      <td>35</td>\n",
       "      <td>1</td>\n",
       "      <td>0</td>\n",
       "    </tr>\n",
       "    <tr>\n",
       "      <th>4</th>\n",
       "      <td>http://adventure-nicaragua.net/index.php?optio...</td>\n",
       "      <td>defacement</td>\n",
       "      <td>1</td>\n",
       "      <td>235</td>\n",
       "      <td>23</td>\n",
       "      <td>10</td>\n",
       "      <td>353</td>\n",
       "      <td>0</td>\n",
       "      <td>0</td>\n",
       "    </tr>\n",
       "  </tbody>\n",
       "</table>\n",
       "</div>"
      ],
      "text/plain": [
       "                                                 url        type  label  \\\n",
       "0                                   br-icloud.com.br    phishing      3   \n",
       "1                mp3raid.com/music/krizz_kaliko.html      benign      0   \n",
       "2                    bopsecrets.org/rexroth/cr/1.htm      benign      0   \n",
       "3  http://www.garage-pirenne.be/index.php?option=...  defacement      1   \n",
       "4  http://adventure-nicaragua.net/index.php?optio...  defacement      1   \n",
       "\n",
       "   url_len  host_url_len  path_len  tld_vec  www_count  https_count  \n",
       "0       16             0        16        0          0            0  \n",
       "1       35             0        35        0          0            0  \n",
       "2       31             0        31        0          0            0  \n",
       "3       88            21        10       35          1            0  \n",
       "4      235            23        10      353          0            0  "
      ]
     },
     "execution_count": 91,
     "metadata": {},
     "output_type": "execute_result"
    }
   ],
   "source": [
    "df.head()"
   ]
  },
  {
   "cell_type": "code",
   "execution_count": 92,
   "id": "0ab80466",
   "metadata": {
    "id": "0ab80466"
   },
   "outputs": [],
   "source": [
    "#count special charecter\n",
    "def countSpchar(url: str,charset:str):\n",
    "    s=0\n",
    "    for i in url:\n",
    "        if i in charset: s = s+1\n",
    "    return s\n",
    "df['sp_char_count'] = df['url'].apply(lambda url:countSpchar(url,'!#$%&()*+,-./:;<=>?@[\\]^_`{|}~'))"
   ]
  },
  {
   "cell_type": "code",
   "execution_count": 93,
   "id": "4b78ae17",
   "metadata": {
    "colab": {
     "base_uri": "https://localhost:8080/",
     "height": 267
    },
    "id": "4b78ae17",
    "outputId": "08e5a6cb-500f-4f22-fd20-ed86436d6e67"
   },
   "outputs": [
    {
     "data": {
      "text/html": [
       "<div>\n",
       "<style scoped>\n",
       "    .dataframe tbody tr th:only-of-type {\n",
       "        vertical-align: middle;\n",
       "    }\n",
       "\n",
       "    .dataframe tbody tr th {\n",
       "        vertical-align: top;\n",
       "    }\n",
       "\n",
       "    .dataframe thead th {\n",
       "        text-align: right;\n",
       "    }\n",
       "</style>\n",
       "<table border=\"1\" class=\"dataframe\">\n",
       "  <thead>\n",
       "    <tr style=\"text-align: right;\">\n",
       "      <th></th>\n",
       "      <th>url</th>\n",
       "      <th>type</th>\n",
       "      <th>label</th>\n",
       "      <th>url_len</th>\n",
       "      <th>host_url_len</th>\n",
       "      <th>path_len</th>\n",
       "      <th>tld_vec</th>\n",
       "      <th>www_count</th>\n",
       "      <th>https_count</th>\n",
       "      <th>sp_char_count</th>\n",
       "    </tr>\n",
       "  </thead>\n",
       "  <tbody>\n",
       "    <tr>\n",
       "      <th>0</th>\n",
       "      <td>br-icloud.com.br</td>\n",
       "      <td>phishing</td>\n",
       "      <td>3</td>\n",
       "      <td>16</td>\n",
       "      <td>0</td>\n",
       "      <td>16</td>\n",
       "      <td>0</td>\n",
       "      <td>0</td>\n",
       "      <td>0</td>\n",
       "      <td>3</td>\n",
       "    </tr>\n",
       "    <tr>\n",
       "      <th>1</th>\n",
       "      <td>mp3raid.com/music/krizz_kaliko.html</td>\n",
       "      <td>benign</td>\n",
       "      <td>0</td>\n",
       "      <td>35</td>\n",
       "      <td>0</td>\n",
       "      <td>35</td>\n",
       "      <td>0</td>\n",
       "      <td>0</td>\n",
       "      <td>0</td>\n",
       "      <td>5</td>\n",
       "    </tr>\n",
       "    <tr>\n",
       "      <th>2</th>\n",
       "      <td>bopsecrets.org/rexroth/cr/1.htm</td>\n",
       "      <td>benign</td>\n",
       "      <td>0</td>\n",
       "      <td>31</td>\n",
       "      <td>0</td>\n",
       "      <td>31</td>\n",
       "      <td>0</td>\n",
       "      <td>0</td>\n",
       "      <td>0</td>\n",
       "      <td>5</td>\n",
       "    </tr>\n",
       "    <tr>\n",
       "      <th>3</th>\n",
       "      <td>http://www.garage-pirenne.be/index.php?option=...</td>\n",
       "      <td>defacement</td>\n",
       "      <td>1</td>\n",
       "      <td>88</td>\n",
       "      <td>21</td>\n",
       "      <td>10</td>\n",
       "      <td>35</td>\n",
       "      <td>1</td>\n",
       "      <td>0</td>\n",
       "      <td>18</td>\n",
       "    </tr>\n",
       "    <tr>\n",
       "      <th>4</th>\n",
       "      <td>http://adventure-nicaragua.net/index.php?optio...</td>\n",
       "      <td>defacement</td>\n",
       "      <td>1</td>\n",
       "      <td>235</td>\n",
       "      <td>23</td>\n",
       "      <td>10</td>\n",
       "      <td>353</td>\n",
       "      <td>0</td>\n",
       "      <td>0</td>\n",
       "      <td>14</td>\n",
       "    </tr>\n",
       "  </tbody>\n",
       "</table>\n",
       "</div>"
      ],
      "text/plain": [
       "                                                 url        type  label  \\\n",
       "0                                   br-icloud.com.br    phishing      3   \n",
       "1                mp3raid.com/music/krizz_kaliko.html      benign      0   \n",
       "2                    bopsecrets.org/rexroth/cr/1.htm      benign      0   \n",
       "3  http://www.garage-pirenne.be/index.php?option=...  defacement      1   \n",
       "4  http://adventure-nicaragua.net/index.php?optio...  defacement      1   \n",
       "\n",
       "   url_len  host_url_len  path_len  tld_vec  www_count  https_count  \\\n",
       "0       16             0        16        0          0            0   \n",
       "1       35             0        35        0          0            0   \n",
       "2       31             0        31        0          0            0   \n",
       "3       88            21        10       35          1            0   \n",
       "4      235            23        10      353          0            0   \n",
       "\n",
       "   sp_char_count  \n",
       "0              3  \n",
       "1              5  \n",
       "2              5  \n",
       "3             18  \n",
       "4             14  "
      ]
     },
     "execution_count": 93,
     "metadata": {},
     "output_type": "execute_result"
    }
   ],
   "source": [
    "df.head()"
   ]
  },
  {
   "cell_type": "code",
   "execution_count": 94,
   "id": "525d780f",
   "metadata": {
    "id": "525d780f"
   },
   "outputs": [],
   "source": [
    "#count Path directories\n",
    "def d_length(url):\n",
    "    urlpath= urlparse(url).path\n",
    "    try: \n",
    "        return len(urlpath.split('/')[1])\n",
    "    except: \n",
    "        return 0;\n",
    "    \n",
    "df['d_length'] = df['url'].apply(lambda url: d_length(url))"
   ]
  },
  {
   "cell_type": "code",
   "execution_count": 95,
   "id": "42a8131d",
   "metadata": {
    "colab": {
     "base_uri": "https://localhost:8080/",
     "height": 305
    },
    "id": "42a8131d",
    "outputId": "0abb5b8c-a083-4a82-9345-b77c96613623"
   },
   "outputs": [
    {
     "data": {
      "text/html": [
       "<div>\n",
       "<style scoped>\n",
       "    .dataframe tbody tr th:only-of-type {\n",
       "        vertical-align: middle;\n",
       "    }\n",
       "\n",
       "    .dataframe tbody tr th {\n",
       "        vertical-align: top;\n",
       "    }\n",
       "\n",
       "    .dataframe thead th {\n",
       "        text-align: right;\n",
       "    }\n",
       "</style>\n",
       "<table border=\"1\" class=\"dataframe\">\n",
       "  <thead>\n",
       "    <tr style=\"text-align: right;\">\n",
       "      <th></th>\n",
       "      <th>url</th>\n",
       "      <th>type</th>\n",
       "      <th>label</th>\n",
       "      <th>url_len</th>\n",
       "      <th>host_url_len</th>\n",
       "      <th>path_len</th>\n",
       "      <th>tld_vec</th>\n",
       "      <th>www_count</th>\n",
       "      <th>https_count</th>\n",
       "      <th>sp_char_count</th>\n",
       "      <th>d_length</th>\n",
       "    </tr>\n",
       "  </thead>\n",
       "  <tbody>\n",
       "    <tr>\n",
       "      <th>0</th>\n",
       "      <td>br-icloud.com.br</td>\n",
       "      <td>phishing</td>\n",
       "      <td>3</td>\n",
       "      <td>16</td>\n",
       "      <td>0</td>\n",
       "      <td>16</td>\n",
       "      <td>0</td>\n",
       "      <td>0</td>\n",
       "      <td>0</td>\n",
       "      <td>3</td>\n",
       "      <td>0</td>\n",
       "    </tr>\n",
       "    <tr>\n",
       "      <th>1</th>\n",
       "      <td>mp3raid.com/music/krizz_kaliko.html</td>\n",
       "      <td>benign</td>\n",
       "      <td>0</td>\n",
       "      <td>35</td>\n",
       "      <td>0</td>\n",
       "      <td>35</td>\n",
       "      <td>0</td>\n",
       "      <td>0</td>\n",
       "      <td>0</td>\n",
       "      <td>5</td>\n",
       "      <td>5</td>\n",
       "    </tr>\n",
       "    <tr>\n",
       "      <th>2</th>\n",
       "      <td>bopsecrets.org/rexroth/cr/1.htm</td>\n",
       "      <td>benign</td>\n",
       "      <td>0</td>\n",
       "      <td>31</td>\n",
       "      <td>0</td>\n",
       "      <td>31</td>\n",
       "      <td>0</td>\n",
       "      <td>0</td>\n",
       "      <td>0</td>\n",
       "      <td>5</td>\n",
       "      <td>7</td>\n",
       "    </tr>\n",
       "    <tr>\n",
       "      <th>3</th>\n",
       "      <td>http://www.garage-pirenne.be/index.php?option=...</td>\n",
       "      <td>defacement</td>\n",
       "      <td>1</td>\n",
       "      <td>88</td>\n",
       "      <td>21</td>\n",
       "      <td>10</td>\n",
       "      <td>35</td>\n",
       "      <td>1</td>\n",
       "      <td>0</td>\n",
       "      <td>18</td>\n",
       "      <td>9</td>\n",
       "    </tr>\n",
       "    <tr>\n",
       "      <th>4</th>\n",
       "      <td>http://adventure-nicaragua.net/index.php?optio...</td>\n",
       "      <td>defacement</td>\n",
       "      <td>1</td>\n",
       "      <td>235</td>\n",
       "      <td>23</td>\n",
       "      <td>10</td>\n",
       "      <td>353</td>\n",
       "      <td>0</td>\n",
       "      <td>0</td>\n",
       "      <td>14</td>\n",
       "      <td>9</td>\n",
       "    </tr>\n",
       "  </tbody>\n",
       "</table>\n",
       "</div>"
      ],
      "text/plain": [
       "                                                 url        type  label  \\\n",
       "0                                   br-icloud.com.br    phishing      3   \n",
       "1                mp3raid.com/music/krizz_kaliko.html      benign      0   \n",
       "2                    bopsecrets.org/rexroth/cr/1.htm      benign      0   \n",
       "3  http://www.garage-pirenne.be/index.php?option=...  defacement      1   \n",
       "4  http://adventure-nicaragua.net/index.php?optio...  defacement      1   \n",
       "\n",
       "   url_len  host_url_len  path_len  tld_vec  www_count  https_count  \\\n",
       "0       16             0        16        0          0            0   \n",
       "1       35             0        35        0          0            0   \n",
       "2       31             0        31        0          0            0   \n",
       "3       88            21        10       35          1            0   \n",
       "4      235            23        10      353          0            0   \n",
       "\n",
       "   sp_char_count  d_length  \n",
       "0              3         0  \n",
       "1              5         5  \n",
       "2              5         7  \n",
       "3             18         9  \n",
       "4             14         9  "
      ]
     },
     "execution_count": 95,
     "metadata": {},
     "output_type": "execute_result"
    }
   ],
   "source": [
    "df.head(5)"
   ]
  },
  {
   "cell_type": "code",
   "execution_count": 96,
   "id": "8ec8ce6e",
   "metadata": {
    "id": "8ec8ce6e"
   },
   "outputs": [],
   "source": [
    "#count digits in the url\n",
    "def count_digits(url: str):\n",
    "    s=0\n",
    "    for i in url:\n",
    "        if i.isnumeric(): s +=1\n",
    "    return s\n",
    "df['digit_count'] = df['url'].apply(lambda url: count_digits(url))"
   ]
  },
  {
   "cell_type": "code",
   "execution_count": 97,
   "id": "74369844",
   "metadata": {
    "colab": {
     "base_uri": "https://localhost:8080/",
     "height": 305
    },
    "id": "74369844",
    "outputId": "5b6a3b38-5d51-4760-a461-ee10996587ab"
   },
   "outputs": [
    {
     "data": {
      "text/html": [
       "<div>\n",
       "<style scoped>\n",
       "    .dataframe tbody tr th:only-of-type {\n",
       "        vertical-align: middle;\n",
       "    }\n",
       "\n",
       "    .dataframe tbody tr th {\n",
       "        vertical-align: top;\n",
       "    }\n",
       "\n",
       "    .dataframe thead th {\n",
       "        text-align: right;\n",
       "    }\n",
       "</style>\n",
       "<table border=\"1\" class=\"dataframe\">\n",
       "  <thead>\n",
       "    <tr style=\"text-align: right;\">\n",
       "      <th></th>\n",
       "      <th>url</th>\n",
       "      <th>type</th>\n",
       "      <th>label</th>\n",
       "      <th>url_len</th>\n",
       "      <th>host_url_len</th>\n",
       "      <th>path_len</th>\n",
       "      <th>tld_vec</th>\n",
       "      <th>www_count</th>\n",
       "      <th>https_count</th>\n",
       "      <th>sp_char_count</th>\n",
       "      <th>d_length</th>\n",
       "      <th>digit_count</th>\n",
       "    </tr>\n",
       "  </thead>\n",
       "  <tbody>\n",
       "    <tr>\n",
       "      <th>0</th>\n",
       "      <td>br-icloud.com.br</td>\n",
       "      <td>phishing</td>\n",
       "      <td>3</td>\n",
       "      <td>16</td>\n",
       "      <td>0</td>\n",
       "      <td>16</td>\n",
       "      <td>0</td>\n",
       "      <td>0</td>\n",
       "      <td>0</td>\n",
       "      <td>3</td>\n",
       "      <td>0</td>\n",
       "      <td>0</td>\n",
       "    </tr>\n",
       "    <tr>\n",
       "      <th>1</th>\n",
       "      <td>mp3raid.com/music/krizz_kaliko.html</td>\n",
       "      <td>benign</td>\n",
       "      <td>0</td>\n",
       "      <td>35</td>\n",
       "      <td>0</td>\n",
       "      <td>35</td>\n",
       "      <td>0</td>\n",
       "      <td>0</td>\n",
       "      <td>0</td>\n",
       "      <td>5</td>\n",
       "      <td>5</td>\n",
       "      <td>1</td>\n",
       "    </tr>\n",
       "    <tr>\n",
       "      <th>2</th>\n",
       "      <td>bopsecrets.org/rexroth/cr/1.htm</td>\n",
       "      <td>benign</td>\n",
       "      <td>0</td>\n",
       "      <td>31</td>\n",
       "      <td>0</td>\n",
       "      <td>31</td>\n",
       "      <td>0</td>\n",
       "      <td>0</td>\n",
       "      <td>0</td>\n",
       "      <td>5</td>\n",
       "      <td>7</td>\n",
       "      <td>1</td>\n",
       "    </tr>\n",
       "    <tr>\n",
       "      <th>3</th>\n",
       "      <td>http://www.garage-pirenne.be/index.php?option=...</td>\n",
       "      <td>defacement</td>\n",
       "      <td>1</td>\n",
       "      <td>88</td>\n",
       "      <td>21</td>\n",
       "      <td>10</td>\n",
       "      <td>35</td>\n",
       "      <td>1</td>\n",
       "      <td>0</td>\n",
       "      <td>18</td>\n",
       "      <td>9</td>\n",
       "      <td>7</td>\n",
       "    </tr>\n",
       "    <tr>\n",
       "      <th>4</th>\n",
       "      <td>http://adventure-nicaragua.net/index.php?optio...</td>\n",
       "      <td>defacement</td>\n",
       "      <td>1</td>\n",
       "      <td>235</td>\n",
       "      <td>23</td>\n",
       "      <td>10</td>\n",
       "      <td>353</td>\n",
       "      <td>0</td>\n",
       "      <td>0</td>\n",
       "      <td>14</td>\n",
       "      <td>9</td>\n",
       "      <td>22</td>\n",
       "    </tr>\n",
       "  </tbody>\n",
       "</table>\n",
       "</div>"
      ],
      "text/plain": [
       "                                                 url        type  label  \\\n",
       "0                                   br-icloud.com.br    phishing      3   \n",
       "1                mp3raid.com/music/krizz_kaliko.html      benign      0   \n",
       "2                    bopsecrets.org/rexroth/cr/1.htm      benign      0   \n",
       "3  http://www.garage-pirenne.be/index.php?option=...  defacement      1   \n",
       "4  http://adventure-nicaragua.net/index.php?optio...  defacement      1   \n",
       "\n",
       "   url_len  host_url_len  path_len  tld_vec  www_count  https_count  \\\n",
       "0       16             0        16        0          0            0   \n",
       "1       35             0        35        0          0            0   \n",
       "2       31             0        31        0          0            0   \n",
       "3       88            21        10       35          1            0   \n",
       "4      235            23        10      353          0            0   \n",
       "\n",
       "   sp_char_count  d_length  digit_count  \n",
       "0              3         0            0  \n",
       "1              5         5            1  \n",
       "2              5         7            1  \n",
       "3             18         9            7  \n",
       "4             14         9           22  "
      ]
     },
     "execution_count": 97,
     "metadata": {},
     "output_type": "execute_result"
    }
   ],
   "source": [
    "df.head()"
   ]
  },
  {
   "cell_type": "code",
   "execution_count": 98,
   "id": "94abd5f9",
   "metadata": {
    "id": "94abd5f9"
   },
   "outputs": [],
   "source": [
    "#counts letters in url\n",
    "def count_letters(url: str):\n",
    "    s=0\n",
    "    for i in url:\n",
    "        if i.isalpha(): s +=1\n",
    "    return s\n",
    "df['letters_count'] = df['url'].apply(lambda url: count_letters(url))"
   ]
  },
  {
   "cell_type": "code",
   "execution_count": 99,
   "id": "2ba66b8e",
   "metadata": {
    "colab": {
     "base_uri": "https://localhost:8080/",
     "height": 305
    },
    "id": "2ba66b8e",
    "outputId": "c16bb990-6d12-46f5-b7a3-379ac1a74bfc"
   },
   "outputs": [
    {
     "data": {
      "text/html": [
       "<div>\n",
       "<style scoped>\n",
       "    .dataframe tbody tr th:only-of-type {\n",
       "        vertical-align: middle;\n",
       "    }\n",
       "\n",
       "    .dataframe tbody tr th {\n",
       "        vertical-align: top;\n",
       "    }\n",
       "\n",
       "    .dataframe thead th {\n",
       "        text-align: right;\n",
       "    }\n",
       "</style>\n",
       "<table border=\"1\" class=\"dataframe\">\n",
       "  <thead>\n",
       "    <tr style=\"text-align: right;\">\n",
       "      <th></th>\n",
       "      <th>url</th>\n",
       "      <th>type</th>\n",
       "      <th>label</th>\n",
       "      <th>url_len</th>\n",
       "      <th>host_url_len</th>\n",
       "      <th>path_len</th>\n",
       "      <th>tld_vec</th>\n",
       "      <th>www_count</th>\n",
       "      <th>https_count</th>\n",
       "      <th>sp_char_count</th>\n",
       "      <th>d_length</th>\n",
       "      <th>digit_count</th>\n",
       "      <th>letters_count</th>\n",
       "    </tr>\n",
       "  </thead>\n",
       "  <tbody>\n",
       "    <tr>\n",
       "      <th>0</th>\n",
       "      <td>br-icloud.com.br</td>\n",
       "      <td>phishing</td>\n",
       "      <td>3</td>\n",
       "      <td>16</td>\n",
       "      <td>0</td>\n",
       "      <td>16</td>\n",
       "      <td>0</td>\n",
       "      <td>0</td>\n",
       "      <td>0</td>\n",
       "      <td>3</td>\n",
       "      <td>0</td>\n",
       "      <td>0</td>\n",
       "      <td>13</td>\n",
       "    </tr>\n",
       "    <tr>\n",
       "      <th>1</th>\n",
       "      <td>mp3raid.com/music/krizz_kaliko.html</td>\n",
       "      <td>benign</td>\n",
       "      <td>0</td>\n",
       "      <td>35</td>\n",
       "      <td>0</td>\n",
       "      <td>35</td>\n",
       "      <td>0</td>\n",
       "      <td>0</td>\n",
       "      <td>0</td>\n",
       "      <td>5</td>\n",
       "      <td>5</td>\n",
       "      <td>1</td>\n",
       "      <td>29</td>\n",
       "    </tr>\n",
       "    <tr>\n",
       "      <th>2</th>\n",
       "      <td>bopsecrets.org/rexroth/cr/1.htm</td>\n",
       "      <td>benign</td>\n",
       "      <td>0</td>\n",
       "      <td>31</td>\n",
       "      <td>0</td>\n",
       "      <td>31</td>\n",
       "      <td>0</td>\n",
       "      <td>0</td>\n",
       "      <td>0</td>\n",
       "      <td>5</td>\n",
       "      <td>7</td>\n",
       "      <td>1</td>\n",
       "      <td>25</td>\n",
       "    </tr>\n",
       "    <tr>\n",
       "      <th>3</th>\n",
       "      <td>http://www.garage-pirenne.be/index.php?option=...</td>\n",
       "      <td>defacement</td>\n",
       "      <td>1</td>\n",
       "      <td>88</td>\n",
       "      <td>21</td>\n",
       "      <td>10</td>\n",
       "      <td>35</td>\n",
       "      <td>1</td>\n",
       "      <td>0</td>\n",
       "      <td>18</td>\n",
       "      <td>9</td>\n",
       "      <td>7</td>\n",
       "      <td>63</td>\n",
       "    </tr>\n",
       "    <tr>\n",
       "      <th>4</th>\n",
       "      <td>http://adventure-nicaragua.net/index.php?optio...</td>\n",
       "      <td>defacement</td>\n",
       "      <td>1</td>\n",
       "      <td>235</td>\n",
       "      <td>23</td>\n",
       "      <td>10</td>\n",
       "      <td>353</td>\n",
       "      <td>0</td>\n",
       "      <td>0</td>\n",
       "      <td>14</td>\n",
       "      <td>9</td>\n",
       "      <td>22</td>\n",
       "      <td>199</td>\n",
       "    </tr>\n",
       "  </tbody>\n",
       "</table>\n",
       "</div>"
      ],
      "text/plain": [
       "                                                 url        type  label  \\\n",
       "0                                   br-icloud.com.br    phishing      3   \n",
       "1                mp3raid.com/music/krizz_kaliko.html      benign      0   \n",
       "2                    bopsecrets.org/rexroth/cr/1.htm      benign      0   \n",
       "3  http://www.garage-pirenne.be/index.php?option=...  defacement      1   \n",
       "4  http://adventure-nicaragua.net/index.php?optio...  defacement      1   \n",
       "\n",
       "   url_len  host_url_len  path_len  tld_vec  www_count  https_count  \\\n",
       "0       16             0        16        0          0            0   \n",
       "1       35             0        35        0          0            0   \n",
       "2       31             0        31        0          0            0   \n",
       "3       88            21        10       35          1            0   \n",
       "4      235            23        10      353          0            0   \n",
       "\n",
       "   sp_char_count  d_length  digit_count  letters_count  \n",
       "0              3         0            0             13  \n",
       "1              5         5            1             29  \n",
       "2              5         7            1             25  \n",
       "3             18         9            7             63  \n",
       "4             14         9           22            199  "
      ]
     },
     "execution_count": 99,
     "metadata": {},
     "output_type": "execute_result"
    }
   ],
   "source": [
    "df.head()"
   ]
  },
  {
   "cell_type": "markdown",
   "id": "7f945b1b",
   "metadata": {
    "id": "7f945b1b"
   },
   "source": [
    "# Binary features\n"
   ]
  },
  {
   "cell_type": "code",
   "execution_count": 100,
   "id": "6e8d1723",
   "metadata": {
    "id": "6e8d1723"
   },
   "outputs": [],
   "source": [
    "#url domain ip address check \n",
    "#def isIP(url:str):\n",
    "  #  match=re.match('  ')"
   ]
  },
  {
   "cell_type": "code",
   "execution_count": 101,
   "id": "f6ad472c",
   "metadata": {
    "id": "f6ad472c"
   },
   "outputs": [],
   "source": [
    "#import socket\n",
    "#def good_netloc(url):\n",
    "#    try:\n",
    "#        socket.gethostbyname(url)\n",
    "#       return True\n",
    "#    except:\n",
    "#        return False\n",
    "#df['host_check'] = df['url'].apply(lambda url: good_netloc(url))\n",
    "# print good_netloc(\"google.com\")\n",
    "# print good_netloc(\"googlecom\")\n",
    "# print good_netloc(\"10.1.1.1\")\n",
    "# print good_netloc(\"999.999.999.999\")\n",
    "\n",
    "## importing socket module\n",
    "## getting the hostname by socket.gethostname() method\n",
    "#hostname = socket.gethostname()\n",
    "## getting the IP address using socket.gethostbyname() method\n",
    "#ip_address = socket.gethostbyname(hostname)\n",
    "## printing the hostname and ip_address\n",
    "#print(f\"Hostname: {hostname}\")S\n",
    "#print(f\"IP Address: {ip_address}\")"
   ]
  },
  {
   "cell_type": "code",
   "execution_count": 102,
   "id": "d6b26d08",
   "metadata": {
    "id": "d6b26d08"
   },
   "outputs": [],
   "source": [
    "from urllib.parse import urlparse\n",
    "domain = urlparse('https://supermavster.com').netloc"
   ]
  },
  {
   "cell_type": "code",
   "execution_count": 103,
   "id": "811d4865",
   "metadata": {
    "colab": {
     "base_uri": "https://localhost:8080/",
     "height": 35
    },
    "id": "811d4865",
    "outputId": "45cc8d2d-ef33-4341-c9c0-077248fd7bb5"
   },
   "outputs": [
    {
     "data": {
      "text/plain": [
       "'supermavster.com'"
      ]
     },
     "execution_count": 103,
     "metadata": {},
     "output_type": "execute_result"
    }
   ],
   "source": [
    "domain"
   ]
  },
  {
   "cell_type": "code",
   "execution_count": 104,
   "id": "f6bdcf68",
   "metadata": {
    "id": "f6bdcf68"
   },
   "outputs": [],
   "source": [
    "def isIP(url: str):\n",
    "  match = re.match(\"^((25[0-5]|2[0-4][0-9]|1[0-9][0-9]|[1-9]?[0-9])\\.){3}(25[0-5]|2[0-4][0-9]|1[0-9][0-9]|[1-9]?[0-9])$\",url)\n",
    "  return 1 if match else 0\n",
    "  \n",
    "df['is_ip']=df['url'].apply(lambda url: isIP(str(urlparse(url).hostname)))\n"
   ]
  },
  {
   "cell_type": "code",
   "execution_count": 105,
   "id": "tcDLkXv1VrV1",
   "metadata": {
    "colab": {
     "base_uri": "https://localhost:8080/",
     "height": 305
    },
    "id": "tcDLkXv1VrV1",
    "outputId": "995183d5-edf1-4eb7-f1b0-42ed58a29853"
   },
   "outputs": [
    {
     "data": {
      "text/html": [
       "<div>\n",
       "<style scoped>\n",
       "    .dataframe tbody tr th:only-of-type {\n",
       "        vertical-align: middle;\n",
       "    }\n",
       "\n",
       "    .dataframe tbody tr th {\n",
       "        vertical-align: top;\n",
       "    }\n",
       "\n",
       "    .dataframe thead th {\n",
       "        text-align: right;\n",
       "    }\n",
       "</style>\n",
       "<table border=\"1\" class=\"dataframe\">\n",
       "  <thead>\n",
       "    <tr style=\"text-align: right;\">\n",
       "      <th></th>\n",
       "      <th>url</th>\n",
       "      <th>type</th>\n",
       "      <th>label</th>\n",
       "      <th>url_len</th>\n",
       "      <th>host_url_len</th>\n",
       "      <th>path_len</th>\n",
       "      <th>tld_vec</th>\n",
       "      <th>www_count</th>\n",
       "      <th>https_count</th>\n",
       "      <th>sp_char_count</th>\n",
       "      <th>d_length</th>\n",
       "      <th>digit_count</th>\n",
       "      <th>letters_count</th>\n",
       "      <th>is_ip</th>\n",
       "    </tr>\n",
       "  </thead>\n",
       "  <tbody>\n",
       "    <tr>\n",
       "      <th>0</th>\n",
       "      <td>br-icloud.com.br</td>\n",
       "      <td>phishing</td>\n",
       "      <td>3</td>\n",
       "      <td>16</td>\n",
       "      <td>0</td>\n",
       "      <td>16</td>\n",
       "      <td>0</td>\n",
       "      <td>0</td>\n",
       "      <td>0</td>\n",
       "      <td>3</td>\n",
       "      <td>0</td>\n",
       "      <td>0</td>\n",
       "      <td>13</td>\n",
       "      <td>0</td>\n",
       "    </tr>\n",
       "    <tr>\n",
       "      <th>1</th>\n",
       "      <td>mp3raid.com/music/krizz_kaliko.html</td>\n",
       "      <td>benign</td>\n",
       "      <td>0</td>\n",
       "      <td>35</td>\n",
       "      <td>0</td>\n",
       "      <td>35</td>\n",
       "      <td>0</td>\n",
       "      <td>0</td>\n",
       "      <td>0</td>\n",
       "      <td>5</td>\n",
       "      <td>5</td>\n",
       "      <td>1</td>\n",
       "      <td>29</td>\n",
       "      <td>0</td>\n",
       "    </tr>\n",
       "    <tr>\n",
       "      <th>2</th>\n",
       "      <td>bopsecrets.org/rexroth/cr/1.htm</td>\n",
       "      <td>benign</td>\n",
       "      <td>0</td>\n",
       "      <td>31</td>\n",
       "      <td>0</td>\n",
       "      <td>31</td>\n",
       "      <td>0</td>\n",
       "      <td>0</td>\n",
       "      <td>0</td>\n",
       "      <td>5</td>\n",
       "      <td>7</td>\n",
       "      <td>1</td>\n",
       "      <td>25</td>\n",
       "      <td>0</td>\n",
       "    </tr>\n",
       "    <tr>\n",
       "      <th>3</th>\n",
       "      <td>http://www.garage-pirenne.be/index.php?option=...</td>\n",
       "      <td>defacement</td>\n",
       "      <td>1</td>\n",
       "      <td>88</td>\n",
       "      <td>21</td>\n",
       "      <td>10</td>\n",
       "      <td>35</td>\n",
       "      <td>1</td>\n",
       "      <td>0</td>\n",
       "      <td>18</td>\n",
       "      <td>9</td>\n",
       "      <td>7</td>\n",
       "      <td>63</td>\n",
       "      <td>0</td>\n",
       "    </tr>\n",
       "    <tr>\n",
       "      <th>4</th>\n",
       "      <td>http://adventure-nicaragua.net/index.php?optio...</td>\n",
       "      <td>defacement</td>\n",
       "      <td>1</td>\n",
       "      <td>235</td>\n",
       "      <td>23</td>\n",
       "      <td>10</td>\n",
       "      <td>353</td>\n",
       "      <td>0</td>\n",
       "      <td>0</td>\n",
       "      <td>14</td>\n",
       "      <td>9</td>\n",
       "      <td>22</td>\n",
       "      <td>199</td>\n",
       "      <td>0</td>\n",
       "    </tr>\n",
       "  </tbody>\n",
       "</table>\n",
       "</div>"
      ],
      "text/plain": [
       "                                                 url        type  label  \\\n",
       "0                                   br-icloud.com.br    phishing      3   \n",
       "1                mp3raid.com/music/krizz_kaliko.html      benign      0   \n",
       "2                    bopsecrets.org/rexroth/cr/1.htm      benign      0   \n",
       "3  http://www.garage-pirenne.be/index.php?option=...  defacement      1   \n",
       "4  http://adventure-nicaragua.net/index.php?optio...  defacement      1   \n",
       "\n",
       "   url_len  host_url_len  path_len  tld_vec  www_count  https_count  \\\n",
       "0       16             0        16        0          0            0   \n",
       "1       35             0        35        0          0            0   \n",
       "2       31             0        31        0          0            0   \n",
       "3       88            21        10       35          1            0   \n",
       "4      235            23        10      353          0            0   \n",
       "\n",
       "   sp_char_count  d_length  digit_count  letters_count  is_ip  \n",
       "0              3         0            0             13      0  \n",
       "1              5         5            1             29      0  \n",
       "2              5         7            1             25      0  \n",
       "3             18         9            7             63      0  \n",
       "4             14         9           22            199      0  "
      ]
     },
     "execution_count": 105,
     "metadata": {},
     "output_type": "execute_result"
    }
   ],
   "source": [
    "df.head()"
   ]
  },
  {
   "cell_type": "code",
   "execution_count": null,
   "id": "i599uhIuWr1b",
   "metadata": {
    "id": "i599uhIuWr1b"
   },
   "outputs": [],
   "source": []
  },
  {
   "cell_type": "code",
   "execution_count": null,
   "id": "lR6MqmFfWrnV",
   "metadata": {
    "id": "lR6MqmFfWrnV"
   },
   "outputs": [],
   "source": []
  },
  {
   "cell_type": "code",
   "execution_count": null,
   "id": "23HXVvB7WrdN",
   "metadata": {
    "id": "23HXVvB7WrdN"
   },
   "outputs": [],
   "source": []
  },
  {
   "cell_type": "markdown",
   "id": "9wupjB5YWtWw",
   "metadata": {
    "id": "9wupjB5YWtWw"
   },
   "source": [
    "DATA VISUALIZATION"
   ]
  },
  {
   "cell_type": "code",
   "execution_count": 106,
   "id": "DSwLkvGIWrOH",
   "metadata": {
    "id": "DSwLkvGIWrOH"
   },
   "outputs": [],
   "source": [
    "#url type "
   ]
  },
  {
   "cell_type": "code",
   "execution_count": 107,
   "id": "BjfB6hmLVwjg",
   "metadata": {
    "colab": {
     "base_uri": "https://localhost:8080/",
     "height": 346
    },
    "id": "BjfB6hmLVwjg",
    "outputId": "d7c28874-3104-435a-ba3e-c5db3a63eeee"
   },
   "outputs": [
    {
     "data": {
      "text/plain": [
       "Text(0.5, 1.0, 'Types of url prrsent in the data set')"
      ]
     },
     "execution_count": 107,
     "metadata": {},
     "output_type": "execute_result"
    },
    {
     "data": {
      "image/png": "[encoded data removed]",
      "text/plain": [
       "<Figure size 360x360 with 1 Axes>"
      ]
     },
     "metadata": {},
     "output_type": "display_data"
    }
   ],
   "source": [
    "types= df['type'].unique()\n",
    "num_types = [len(df[df['type']==type]) for type in types]\n",
    "\n",
    "color_list= [\"cyan\",\"red\",\"orange\",\"green\"]\n",
    "plt.figure(figsize=(5,5), facecolor=\"PaleTurquoise\")\n",
    "plt.pie(num_types, labels=types, colors= color_list, autopct='%0.2f%%',explode=(0.05,0,0.05,0.05))\n",
    "plt.title('Types of url prrsent in the data set', fontdict={'color':\"white\",'size':26})"
   ]
  },
  {
   "cell_type": "code",
   "execution_count": 108,
   "id": "uvEvrWVlZDyC",
   "metadata": {
    "colab": {
     "base_uri": "https://localhost:8080/",
     "height": 873
    },
    "id": "uvEvrWVlZDyC",
    "outputId": "abde7c9e-9c99-4abf-c0c5-1892016d92dc"
   },
   "outputs": [
    {
     "data": {
      "text/plain": [
       "<function matplotlib.pyplot.show(close=None, block=None)>"
      ]
     },
     "execution_count": 108,
     "metadata": {},
     "output_type": "execute_result"
    },
    {
     "data": {
      "image/png": "[encoded data removed]",
      "text/plain": [
       "<Figure size 1080x1080 with 2 Axes>"
      ]
     },
     "metadata": {
      "needs_background": "light"
     },
     "output_type": "display_data"
    }
   ],
   "source": [
    "#Heat map \n",
    "corr_matrix =df.corr()\n",
    "plt.figure(figsize=(15,15))\n",
    "sns.heatmap(corr_matrix,square=True, annot=True, annot_kws={'size':8})\n",
    "plt.title('Heat Map of the Corelation matrix ', fontdict={'color':\"Black\",'size':26})\n",
    "plt.show"
   ]
  },
  {
   "cell_type": "code",
   "execution_count": null,
   "id": "pvU_t2KQbvLi",
   "metadata": {
    "id": "pvU_t2KQbvLi"
   },
   "outputs": [],
   "source": []
  },
  {
   "cell_type": "code",
   "execution_count": 109,
   "id": "dncjy-XJbvH2",
   "metadata": {
    "colab": {
     "base_uri": "https://localhost:8080/"
    },
    "id": "dncjy-XJbvH2",
    "outputId": "4515e1a3-3880-4816-b538-7c44c9ac94fe"
   },
   "outputs": [
    {
     "data": {
      "text/plain": [
       "array([0.10814146, 0.39429179, 0.2263089 , 0.36836188, 0.18006722,\n",
       "       0.03110277, 0.18507965, 0.17615757, 0.0829573 , 0.11042274,\n",
       "       0.05702067])"
      ]
     },
     "execution_count": 109,
     "metadata": {},
     "output_type": "execute_result"
    }
   ],
   "source": [
    "from sklearn.feature_selection import mutual_info_classif\n",
    "mutual_info = mutual_info_classif(df.iloc[:,3:], df['label'])\n",
    "mutual_info "
   ]
  },
  {
   "cell_type": "code",
   "execution_count": 110,
   "id": "vAv3pLhGSZO0",
   "metadata": {
    "id": "vAv3pLhGSZO0"
   },
   "outputs": [],
   "source": [
    "mutual_info = pd.Series(mutual_info)\n",
    "mutual_info.index = df.iloc[:,3:].columns\n",
    "mutual_info = mutual_info.sort_values(ascending =True)"
   ]
  },
  {
   "cell_type": "code",
   "execution_count": 111,
   "id": "d4GmYIR9bvFj",
   "metadata": {
    "colab": {
     "base_uri": "https://localhost:8080/"
    },
    "id": "d4GmYIR9bvFj",
    "outputId": "685fc4ee-0f79-4a35-a310-f8a8878188c3"
   },
   "outputs": [
    {
     "data": {
      "text/plain": [
       "https_count      0.031103\n",
       "is_ip            0.057021\n",
       "digit_count      0.082957\n",
       "url_len          0.108141\n",
       "letters_count    0.110423\n",
       "d_length         0.176158\n",
       "www_count        0.180067\n",
       "sp_char_count    0.185080\n",
       "path_len         0.226309\n",
       "tld_vec          0.368362\n",
       "host_url_len     0.394292\n",
       "dtype: float64"
      ]
     },
     "execution_count": 111,
     "metadata": {},
     "output_type": "execute_result"
    }
   ],
   "source": [
    "mutual_info"
   ]
  },
  {
   "cell_type": "code",
   "execution_count": 112,
   "id": "C4ACuzgeToOs",
   "metadata": {
    "colab": {
     "base_uri": "https://localhost:8080/",
     "height": 506
    },
    "id": "C4ACuzgeToOs",
    "outputId": "761980c3-1578-4b19-9fba-09fc1d085503"
   },
   "outputs": [
    {
     "data": {
      "image/png": "[encoded data removed]",
      "text/plain": [
       "<Figure size 720x504 with 1 Axes>"
      ]
     },
     "metadata": {
      "needs_background": "light"
     },
     "output_type": "display_data"
    }
   ],
   "source": [
    "plt.figure(figsize=(10,7))\n",
    "mutual_info.plot.bar()\n",
    "plt.title(\"info bar\")\n",
    "\n",
    "plt.show()"
   ]
  },
  {
   "cell_type": "code",
   "execution_count": 113,
   "id": "mNVtFMmmam_h",
   "metadata": {
    "id": "mNVtFMmmam_h"
   },
   "outputs": [],
   "source": [
    "from sklearn.model_selection import train_test_split\n",
    "from sklearn.preprocessing import MinMaxScaler\n",
    "from sklearn.preprocessing import StandardScaler\n",
    "from sklearn.metrics import accuracy_score,recall_score,confusion_matrix,mean_squared_error,precision_score\n",
    "\n",
    "from sklearn.neighbors import KNeighborsClassifier\n",
    "from sklearn.linear_model import LogisticRegression\n",
    "from sklearn.ensemble import RandomForestClassifier\n"
   ]
  },
  {
   "cell_type": "code",
   "execution_count": 114,
   "id": "Bm82HNnPctTL",
   "metadata": {
    "id": "Bm82HNnPctTL"
   },
   "outputs": [],
   "source": [
    "x=df.iloc[:,3:]\n",
    "y=df['label']\n",
    "\n",
    "x_train,x_test,y_train,y_test=train_test_split(x,y,train_size=0.7,random_state=42)\n"
   ]
  },
  {
   "cell_type": "code",
   "execution_count": 115,
   "id": "MY5BTkv0VRqb",
   "metadata": {
    "id": "MY5BTkv0VRqb"
   },
   "outputs": [],
   "source": [
    "ss= StandardScaler()\n",
    "x_train_std = ss.fit_transform(x_train)\n",
    "x_test_std = ss.transform(x_test)\n",
    "\n",
    "mm = MinMaxScaler()\n",
    "x_train_mn = mm.fit_transform(x_train)\n",
    "x_test_mn = mm.transform(x_test)"
   ]
  },
  {
   "cell_type": "code",
   "execution_count": 116,
   "id": "x8FbDJF0dkX0",
   "metadata": {
    "id": "x8FbDJF0dkX0"
   },
   "outputs": [],
   "source": [
    "lr = LogisticRegression(max_iter =900)\n",
    "lr.fit(x_train_mn,y_train)\n",
    "y_pred = lr.predict(x_test_mn)\n",
    "lr_accuracy_score = accuracy_score(y_test,y_pred)"
   ]
  },
  {
   "cell_type": "code",
   "execution_count": 117,
   "id": "CtTSbGL4WLx1",
   "metadata": {
    "colab": {
     "base_uri": "https://localhost:8080/"
    },
    "id": "CtTSbGL4WLx1",
    "outputId": "d3ab628f-cf9a-4332-cc21-45ef177530a3"
   },
   "outputs": [
    {
     "name": "stdout",
     "output_type": "stream",
     "text": [
      "0.8566017260618967\n"
     ]
    }
   ],
   "source": [
    "print(lr_accuracy_score)"
   ]
  },
  {
   "cell_type": "code",
   "execution_count": null,
   "id": "e39J5Ui5WfZF",
   "metadata": {
    "id": "e39J5Ui5WfZF"
   },
   "outputs": [],
   "source": []
  },
  {
   "cell_type": "code",
   "execution_count": 123,
   "id": "XswB-mWGWfF3",
   "metadata": {
    "id": "XswB-mWGWfF3"
   },
   "outputs": [],
   "source": [
    "#rf= RandomForestClassifier(n_estimators = 900)\n",
    "#rf.fit(x_train_mn,y_train)\n",
    "#y_pred = rf.predict(x_test_mn)\n",
    "#rf_accuracy_score = accuracy_score(y_test,y_pred)"
   ]
  },
  {
   "cell_type": "code",
   "execution_count": null,
   "id": "34jdRsgLXRUw",
   "metadata": {
    "colab": {
     "base_uri": "https://localhost:8080/",
     "height": 131
    },
    "id": "34jdRsgLXRUw",
    "outputId": "a929be45-1d2c-402a-d6fd-a61f5aa0d60c"
   },
   "outputs": [],
   "source": [
    "#results = [] # init \n",
    "r = range(100, 1000)\n",
    "for i in r:\n",
    "    rf_model_i = RandomForestClassifier(criterion = \"gini\",n_estimators = i, oob_score= True)\n",
    "    rf_model_i.id = [i]\n",
    "    rf_model_i.fit(x_train_mn,y_train)\n",
    "    y_predict_i = rf_model_i.predict(x_test_mn)\n",
    "    accuracy_i = [accuracy_score(y_test, y_predict_i), i]\n",
    "    results.append(accuracy_i)"
   ]
  },
  {
   "cell_type": "code",
   "execution_count": null,
   "id": "ddbWapw4YdMH",
   "metadata": {
    "id": "ddbWapw4YdMH"
   },
   "outputs": [],
   "source": []
  }
 ],
 "metadata": {
  "colab": {
   "collapsed_sections": [],
   "name": "url_detection-checkpoint.ipynb",
   "provenance": []
  },
  "kernelspec": {
   "display_name": "Python 3",
   "language": "python",
   "name": "python3"
  },
  "language_info": {
   "codemirror_mode": {
    "name": "ipython",
    "version": 3
   },
   "file_extension": ".py",
   "mimetype": "text/x-python",
   "name": "python",
   "nbconvert_exporter": "python",
   "pygments_lexer": "ipython3",
   "version": "3.8.8"
  }
 },
 "nbformat": 4,
 "nbformat_minor": 5
}
